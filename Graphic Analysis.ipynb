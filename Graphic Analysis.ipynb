{
 "cells": [
  {
   "cell_type": "markdown",
   "metadata": {
    "application/vnd.databricks.v1+cell": {
     "cellMetadata": {},
     "inputWidgets": {},
     "nuid": "3b575980-cc8d-4bab-bf5d-8e2844735a38",
     "showTitle": false,
     "title": ""
    }
   },
   "source": [
    "### Prédire l'attrition"
   ]
  },
  {
   "cell_type": "code",
   "execution_count": 8,
   "metadata": {
    "application/vnd.databricks.v1+cell": {
     "cellMetadata": {},
     "inputWidgets": {},
     "nuid": "0312d8a4-c63d-4ad6-891f-02c63c59608f",
     "showTitle": false,
     "title": ""
    }
   },
   "outputs": [],
   "source": [
    "from pyspark.sql.functions import corr\n",
    "from pyspark.ml import Pipeline\n",
    "from pyspark.ml.classification import LogisticRegression\n",
    "from pyspark.ml.evaluation import BinaryClassificationEvaluator\n",
    "from pyspark.ml.feature import OneHotEncoder, StringIndexer, VectorAssembler\n",
    "from pyspark.ml.classification import DecisionTreeClassifier\n",
    "from pyspark.ml.tuning import ParamGridBuilder, CrossValidator\n",
    "from pyspark.ml.classification import RandomForestClassifier\n",
    "from pyspark.sql import SparkSession"
   ]
  },
  {
   "cell_type": "code",
   "execution_count": 11,
   "metadata": {
    "application/vnd.databricks.v1+cell": {
     "cellMetadata": {},
     "inputWidgets": {},
     "nuid": "6482be4c-f067-47c9-b0ac-35c938b94601",
     "showTitle": false,
     "title": ""
    }
   },
   "outputs": [
    {
     "data": {
      "text/plain": [
       "DataFrame[Age: string, Attrition: string, BusinessTravel: string, DailyRate: string, Department: string, DistanceFromHome: string, Education: string, EducationField: string, EmployeeCount: string, EmployeeNumber: string, EnvironmentSatisfaction: string, Gender: string, HourlyRate: string, JobInvolvement: string, JobLevel: string, JobRole: string, JobSatisfaction: string, MaritalStatus: string, MonthlyIncome: string, MonthlyRate: string, NumCompaniesWorked: string, Over18: string, OverTime: string, PercentSalaryHike: string, PerformanceRating: string, RelationshipSatisfaction: string, StandardHours: string, StockOptionLevel: string, TotalWorkingYears: string, TrainingTimesLastYear: string, WorkLifeBalance: string, YearsAtCompany: string, YearsInCurrentRole: string, YearsSinceLastPromotion: string, YearsWithCurrManager: string]"
      ]
     },
     "metadata": {},
     "output_type": "display_data"
    }
   ],
   "source": [
    "# File location and type\n",
    "spark = SparkSession.builder.appName('attrition analysis').getOrCreate()\n",
    "file_location = \"HR-Employee-Attrition.csv\"\n",
    "file_type = \"csv\"\n",
    "\n",
    "# CSV options\n",
    "infer_schema = \"false\"\n",
    "first_row_is_header = \"true\"\n",
    "delimiter = \",\"\n",
    "\n",
    "# The applied options are for CSV files. For other file types, these will be ignored.\n",
    "df = spark.read.format(file_type) \\\n",
    "  .option(\"inferSchema\", infer_schema) \\\n",
    "  .option(\"header\", first_row_is_header) \\\n",
    "  .option(\"sep\", delimiter) \\\n",
    "  .load(file_location)\n",
    "\n",
    "display(df)"
   ]
  },
  {
   "cell_type": "code",
   "execution_count": 12,
   "metadata": {
    "application/vnd.databricks.v1+cell": {
     "cellMetadata": {},
     "inputWidgets": {},
     "nuid": "2fab6c48-fbc7-4362-96c4-e5278416cc29",
     "showTitle": false,
     "title": ""
    }
   },
   "outputs": [
    {
     "name": "stdout",
     "output_type": "stream",
     "text": [
      "1470 35\n"
     ]
    }
   ],
   "source": [
    "print(df.count(), len(df.columns))"
   ]
  },
  {
   "cell_type": "code",
   "execution_count": 13,
   "metadata": {
    "application/vnd.databricks.v1+cell": {
     "cellMetadata": {},
     "inputWidgets": {},
     "nuid": "09bbb38c-e696-4bee-bc9e-f22522b04524",
     "showTitle": false,
     "title": ""
    }
   },
   "outputs": [],
   "source": [
    "from pyspark.sql.functions import col\n",
    "\n",
    "# convertir les colonnes string en double quand cela est possible\n",
    "for column in df.columns:\n",
    "    try:\n",
    "        if int(df.select(column).first()[0]):\n",
    "            df = df.withColumn(column, col(column).cast(\"double\"))\n",
    "    except:\n",
    "        pass"
   ]
  },
  {
   "cell_type": "code",
   "execution_count": 14,
   "metadata": {
    "application/vnd.databricks.v1+cell": {
     "cellMetadata": {},
     "inputWidgets": {},
     "nuid": "2a8dd715-bcfe-47fb-b678-6cde342f0803",
     "showTitle": false,
     "title": ""
    }
   },
   "outputs": [
    {
     "data": {
      "text/html": [
       "<div>\n",
       "<style scoped>\n",
       "    .dataframe tbody tr th:only-of-type {\n",
       "        vertical-align: middle;\n",
       "    }\n",
       "\n",
       "    .dataframe tbody tr th {\n",
       "        vertical-align: top;\n",
       "    }\n",
       "\n",
       "    .dataframe thead th {\n",
       "        text-align: right;\n",
       "    }\n",
       "</style>\n",
       "<table border=\"1\" class=\"dataframe\">\n",
       "  <thead>\n",
       "    <tr style=\"text-align: right;\">\n",
       "      <th></th>\n",
       "      <th>0</th>\n",
       "      <th>1</th>\n",
       "      <th>2</th>\n",
       "      <th>3</th>\n",
       "      <th>4</th>\n",
       "    </tr>\n",
       "  </thead>\n",
       "  <tbody>\n",
       "    <tr>\n",
       "      <th>summary</th>\n",
       "      <td>count</td>\n",
       "      <td>mean</td>\n",
       "      <td>stddev</td>\n",
       "      <td>min</td>\n",
       "      <td>max</td>\n",
       "    </tr>\n",
       "    <tr>\n",
       "      <th>Age</th>\n",
       "      <td>1470</td>\n",
       "      <td>36.923809523809524</td>\n",
       "      <td>9.135373489136729</td>\n",
       "      <td>18.0</td>\n",
       "      <td>60.0</td>\n",
       "    </tr>\n",
       "    <tr>\n",
       "      <th>Attrition</th>\n",
       "      <td>1470</td>\n",
       "      <td>None</td>\n",
       "      <td>None</td>\n",
       "      <td>No</td>\n",
       "      <td>Yes</td>\n",
       "    </tr>\n",
       "    <tr>\n",
       "      <th>BusinessTravel</th>\n",
       "      <td>1470</td>\n",
       "      <td>None</td>\n",
       "      <td>None</td>\n",
       "      <td>Non-Travel</td>\n",
       "      <td>Travel_Rarely</td>\n",
       "    </tr>\n",
       "    <tr>\n",
       "      <th>DailyRate</th>\n",
       "      <td>1470</td>\n",
       "      <td>802.4857142857143</td>\n",
       "      <td>403.50909994352804</td>\n",
       "      <td>102.0</td>\n",
       "      <td>1499.0</td>\n",
       "    </tr>\n",
       "    <tr>\n",
       "      <th>Department</th>\n",
       "      <td>1470</td>\n",
       "      <td>None</td>\n",
       "      <td>None</td>\n",
       "      <td>Human Resources</td>\n",
       "      <td>Sales</td>\n",
       "    </tr>\n",
       "    <tr>\n",
       "      <th>DistanceFromHome</th>\n",
       "      <td>1470</td>\n",
       "      <td>9.19251700680272</td>\n",
       "      <td>8.10686443566608</td>\n",
       "      <td>1.0</td>\n",
       "      <td>29.0</td>\n",
       "    </tr>\n",
       "    <tr>\n",
       "      <th>Education</th>\n",
       "      <td>1470</td>\n",
       "      <td>2.912925170068027</td>\n",
       "      <td>1.0241649445978718</td>\n",
       "      <td>1.0</td>\n",
       "      <td>5.0</td>\n",
       "    </tr>\n",
       "    <tr>\n",
       "      <th>EducationField</th>\n",
       "      <td>1470</td>\n",
       "      <td>None</td>\n",
       "      <td>None</td>\n",
       "      <td>Human Resources</td>\n",
       "      <td>Technical Degree</td>\n",
       "    </tr>\n",
       "    <tr>\n",
       "      <th>EmployeeCount</th>\n",
       "      <td>1470</td>\n",
       "      <td>1.0</td>\n",
       "      <td>0.0</td>\n",
       "      <td>1.0</td>\n",
       "      <td>1.0</td>\n",
       "    </tr>\n",
       "    <tr>\n",
       "      <th>EmployeeNumber</th>\n",
       "      <td>1470</td>\n",
       "      <td>1024.865306122449</td>\n",
       "      <td>602.0243348474752</td>\n",
       "      <td>1.0</td>\n",
       "      <td>2068.0</td>\n",
       "    </tr>\n",
       "    <tr>\n",
       "      <th>EnvironmentSatisfaction</th>\n",
       "      <td>1470</td>\n",
       "      <td>2.721768707482993</td>\n",
       "      <td>1.0930822146350003</td>\n",
       "      <td>1.0</td>\n",
       "      <td>4.0</td>\n",
       "    </tr>\n",
       "    <tr>\n",
       "      <th>Gender</th>\n",
       "      <td>1470</td>\n",
       "      <td>None</td>\n",
       "      <td>None</td>\n",
       "      <td>Female</td>\n",
       "      <td>Male</td>\n",
       "    </tr>\n",
       "    <tr>\n",
       "      <th>HourlyRate</th>\n",
       "      <td>1470</td>\n",
       "      <td>65.89115646258503</td>\n",
       "      <td>20.329427593996176</td>\n",
       "      <td>30.0</td>\n",
       "      <td>100.0</td>\n",
       "    </tr>\n",
       "    <tr>\n",
       "      <th>JobInvolvement</th>\n",
       "      <td>1470</td>\n",
       "      <td>2.7299319727891156</td>\n",
       "      <td>0.7115611429632297</td>\n",
       "      <td>1.0</td>\n",
       "      <td>4.0</td>\n",
       "    </tr>\n",
       "    <tr>\n",
       "      <th>JobLevel</th>\n",
       "      <td>1470</td>\n",
       "      <td>2.0639455782312925</td>\n",
       "      <td>1.1069398989351202</td>\n",
       "      <td>1.0</td>\n",
       "      <td>5.0</td>\n",
       "    </tr>\n",
       "    <tr>\n",
       "      <th>JobRole</th>\n",
       "      <td>1470</td>\n",
       "      <td>None</td>\n",
       "      <td>None</td>\n",
       "      <td>Healthcare Representative</td>\n",
       "      <td>Sales Representative</td>\n",
       "    </tr>\n",
       "    <tr>\n",
       "      <th>JobSatisfaction</th>\n",
       "      <td>1470</td>\n",
       "      <td>2.7285714285714286</td>\n",
       "      <td>1.1028461230547213</td>\n",
       "      <td>1.0</td>\n",
       "      <td>4.0</td>\n",
       "    </tr>\n",
       "    <tr>\n",
       "      <th>MaritalStatus</th>\n",
       "      <td>1470</td>\n",
       "      <td>None</td>\n",
       "      <td>None</td>\n",
       "      <td>Divorced</td>\n",
       "      <td>Single</td>\n",
       "    </tr>\n",
       "    <tr>\n",
       "      <th>MonthlyIncome</th>\n",
       "      <td>1470</td>\n",
       "      <td>6502.931292517007</td>\n",
       "      <td>4707.956783097992</td>\n",
       "      <td>1009.0</td>\n",
       "      <td>19999.0</td>\n",
       "    </tr>\n",
       "    <tr>\n",
       "      <th>MonthlyRate</th>\n",
       "      <td>1470</td>\n",
       "      <td>14313.103401360544</td>\n",
       "      <td>7117.786044059972</td>\n",
       "      <td>2094.0</td>\n",
       "      <td>26999.0</td>\n",
       "    </tr>\n",
       "    <tr>\n",
       "      <th>NumCompaniesWorked</th>\n",
       "      <td>1470</td>\n",
       "      <td>2.6931972789115646</td>\n",
       "      <td>2.4980090060707463</td>\n",
       "      <td>0.0</td>\n",
       "      <td>9.0</td>\n",
       "    </tr>\n",
       "    <tr>\n",
       "      <th>Over18</th>\n",
       "      <td>1470</td>\n",
       "      <td>None</td>\n",
       "      <td>None</td>\n",
       "      <td>Y</td>\n",
       "      <td>Y</td>\n",
       "    </tr>\n",
       "    <tr>\n",
       "      <th>OverTime</th>\n",
       "      <td>1470</td>\n",
       "      <td>None</td>\n",
       "      <td>None</td>\n",
       "      <td>No</td>\n",
       "      <td>Yes</td>\n",
       "    </tr>\n",
       "    <tr>\n",
       "      <th>PercentSalaryHike</th>\n",
       "      <td>1470</td>\n",
       "      <td>15.209523809523809</td>\n",
       "      <td>3.6599377165396385</td>\n",
       "      <td>11.0</td>\n",
       "      <td>25.0</td>\n",
       "    </tr>\n",
       "    <tr>\n",
       "      <th>PerformanceRating</th>\n",
       "      <td>1470</td>\n",
       "      <td>3.1537414965986397</td>\n",
       "      <td>0.36082352460434397</td>\n",
       "      <td>3.0</td>\n",
       "      <td>4.0</td>\n",
       "    </tr>\n",
       "    <tr>\n",
       "      <th>RelationshipSatisfaction</th>\n",
       "      <td>1470</td>\n",
       "      <td>2.7122448979591836</td>\n",
       "      <td>1.0812088864403517</td>\n",
       "      <td>1.0</td>\n",
       "      <td>4.0</td>\n",
       "    </tr>\n",
       "    <tr>\n",
       "      <th>StandardHours</th>\n",
       "      <td>1470</td>\n",
       "      <td>80.0</td>\n",
       "      <td>0.0</td>\n",
       "      <td>80.0</td>\n",
       "      <td>80.0</td>\n",
       "    </tr>\n",
       "    <tr>\n",
       "      <th>StockOptionLevel</th>\n",
       "      <td>1470</td>\n",
       "      <td>0.7938775510204081</td>\n",
       "      <td>0.8520766679308381</td>\n",
       "      <td>0</td>\n",
       "      <td>3</td>\n",
       "    </tr>\n",
       "    <tr>\n",
       "      <th>TotalWorkingYears</th>\n",
       "      <td>1470</td>\n",
       "      <td>11.279591836734694</td>\n",
       "      <td>7.780781675514995</td>\n",
       "      <td>0.0</td>\n",
       "      <td>40.0</td>\n",
       "    </tr>\n",
       "    <tr>\n",
       "      <th>TrainingTimesLastYear</th>\n",
       "      <td>1470</td>\n",
       "      <td>2.7993197278911564</td>\n",
       "      <td>1.2892706207958466</td>\n",
       "      <td>0</td>\n",
       "      <td>6</td>\n",
       "    </tr>\n",
       "    <tr>\n",
       "      <th>WorkLifeBalance</th>\n",
       "      <td>1470</td>\n",
       "      <td>2.7612244897959184</td>\n",
       "      <td>0.7064758297141507</td>\n",
       "      <td>1.0</td>\n",
       "      <td>4.0</td>\n",
       "    </tr>\n",
       "    <tr>\n",
       "      <th>YearsAtCompany</th>\n",
       "      <td>1470</td>\n",
       "      <td>7.0081632653061225</td>\n",
       "      <td>6.126525152403571</td>\n",
       "      <td>0.0</td>\n",
       "      <td>40.0</td>\n",
       "    </tr>\n",
       "    <tr>\n",
       "      <th>YearsInCurrentRole</th>\n",
       "      <td>1470</td>\n",
       "      <td>4.229251700680272</td>\n",
       "      <td>3.623137034670627</td>\n",
       "      <td>0.0</td>\n",
       "      <td>18.0</td>\n",
       "    </tr>\n",
       "    <tr>\n",
       "      <th>YearsSinceLastPromotion</th>\n",
       "      <td>1470</td>\n",
       "      <td>2.1877551020408164</td>\n",
       "      <td>3.2224302791379693</td>\n",
       "      <td>0</td>\n",
       "      <td>9</td>\n",
       "    </tr>\n",
       "    <tr>\n",
       "      <th>YearsWithCurrManager</th>\n",
       "      <td>1470</td>\n",
       "      <td>4.12312925170068</td>\n",
       "      <td>3.5681361205404363</td>\n",
       "      <td>0.0</td>\n",
       "      <td>17.0</td>\n",
       "    </tr>\n",
       "  </tbody>\n",
       "</table>\n",
       "</div>"
      ],
      "text/plain": [
       "                              0                   1                    2  \\\n",
       "summary                   count                mean               stddev   \n",
       "Age                        1470  36.923809523809524    9.135373489136729   \n",
       "Attrition                  1470                None                 None   \n",
       "BusinessTravel             1470                None                 None   \n",
       "DailyRate                  1470   802.4857142857143   403.50909994352804   \n",
       "Department                 1470                None                 None   \n",
       "DistanceFromHome           1470    9.19251700680272     8.10686443566608   \n",
       "Education                  1470   2.912925170068027   1.0241649445978718   \n",
       "EducationField             1470                None                 None   \n",
       "EmployeeCount              1470                 1.0                  0.0   \n",
       "EmployeeNumber             1470   1024.865306122449    602.0243348474752   \n",
       "EnvironmentSatisfaction    1470   2.721768707482993   1.0930822146350003   \n",
       "Gender                     1470                None                 None   \n",
       "HourlyRate                 1470   65.89115646258503   20.329427593996176   \n",
       "JobInvolvement             1470  2.7299319727891156   0.7115611429632297   \n",
       "JobLevel                   1470  2.0639455782312925   1.1069398989351202   \n",
       "JobRole                    1470                None                 None   \n",
       "JobSatisfaction            1470  2.7285714285714286   1.1028461230547213   \n",
       "MaritalStatus              1470                None                 None   \n",
       "MonthlyIncome              1470   6502.931292517007    4707.956783097992   \n",
       "MonthlyRate                1470  14313.103401360544    7117.786044059972   \n",
       "NumCompaniesWorked         1470  2.6931972789115646   2.4980090060707463   \n",
       "Over18                     1470                None                 None   \n",
       "OverTime                   1470                None                 None   \n",
       "PercentSalaryHike          1470  15.209523809523809   3.6599377165396385   \n",
       "PerformanceRating          1470  3.1537414965986397  0.36082352460434397   \n",
       "RelationshipSatisfaction   1470  2.7122448979591836   1.0812088864403517   \n",
       "StandardHours              1470                80.0                  0.0   \n",
       "StockOptionLevel           1470  0.7938775510204081   0.8520766679308381   \n",
       "TotalWorkingYears          1470  11.279591836734694    7.780781675514995   \n",
       "TrainingTimesLastYear      1470  2.7993197278911564   1.2892706207958466   \n",
       "WorkLifeBalance            1470  2.7612244897959184   0.7064758297141507   \n",
       "YearsAtCompany             1470  7.0081632653061225    6.126525152403571   \n",
       "YearsInCurrentRole         1470   4.229251700680272    3.623137034670627   \n",
       "YearsSinceLastPromotion    1470  2.1877551020408164   3.2224302791379693   \n",
       "YearsWithCurrManager       1470    4.12312925170068   3.5681361205404363   \n",
       "\n",
       "                                                  3                     4  \n",
       "summary                                         min                   max  \n",
       "Age                                            18.0                  60.0  \n",
       "Attrition                                        No                   Yes  \n",
       "BusinessTravel                           Non-Travel         Travel_Rarely  \n",
       "DailyRate                                     102.0                1499.0  \n",
       "Department                          Human Resources                 Sales  \n",
       "DistanceFromHome                                1.0                  29.0  \n",
       "Education                                       1.0                   5.0  \n",
       "EducationField                      Human Resources      Technical Degree  \n",
       "EmployeeCount                                   1.0                   1.0  \n",
       "EmployeeNumber                                  1.0                2068.0  \n",
       "EnvironmentSatisfaction                         1.0                   4.0  \n",
       "Gender                                       Female                  Male  \n",
       "HourlyRate                                     30.0                 100.0  \n",
       "JobInvolvement                                  1.0                   4.0  \n",
       "JobLevel                                        1.0                   5.0  \n",
       "JobRole                   Healthcare Representative  Sales Representative  \n",
       "JobSatisfaction                                 1.0                   4.0  \n",
       "MaritalStatus                              Divorced                Single  \n",
       "MonthlyIncome                                1009.0               19999.0  \n",
       "MonthlyRate                                  2094.0               26999.0  \n",
       "NumCompaniesWorked                              0.0                   9.0  \n",
       "Over18                                            Y                     Y  \n",
       "OverTime                                         No                   Yes  \n",
       "PercentSalaryHike                              11.0                  25.0  \n",
       "PerformanceRating                               3.0                   4.0  \n",
       "RelationshipSatisfaction                        1.0                   4.0  \n",
       "StandardHours                                  80.0                  80.0  \n",
       "StockOptionLevel                                  0                     3  \n",
       "TotalWorkingYears                               0.0                  40.0  \n",
       "TrainingTimesLastYear                             0                     6  \n",
       "WorkLifeBalance                                 1.0                   4.0  \n",
       "YearsAtCompany                                  0.0                  40.0  \n",
       "YearsInCurrentRole                              0.0                  18.0  \n",
       "YearsSinceLastPromotion                           0                     9  \n",
       "YearsWithCurrManager                            0.0                  17.0  "
      ]
     },
     "execution_count": 14,
     "metadata": {},
     "output_type": "execute_result"
    }
   ],
   "source": [
    "df.describe().toPandas().transpose()"
   ]
  },
  {
   "cell_type": "code",
   "execution_count": 16,
   "metadata": {
    "application/vnd.databricks.v1+cell": {
     "cellMetadata": {},
     "inputWidgets": {},
     "nuid": "dec6579f-f01d-47ae-928e-4ae0908c6ab7",
     "showTitle": false,
     "title": ""
    }
   },
   "outputs": [],
   "source": [
    "num_col = []\n",
    "\n",
    "# convertir les colonnes string en double quand cela est possible\n",
    "for column in df.columns:\n",
    "    try:\n",
    "        if int(df.select(column).first()[0]):\n",
    "            num_col += [column]\n",
    "    except:\n",
    "        pass"
   ]
  },
  {
   "cell_type": "markdown",
   "metadata": {
    "application/vnd.databricks.v1+cell": {
     "cellMetadata": {},
     "inputWidgets": {},
     "nuid": "c7e410a8-8937-4408-ab8b-73a0f4cf665d",
     "showTitle": false,
     "title": ""
    }
   },
   "source": [
    "### Analyse des corrélations"
   ]
  },
  {
   "cell_type": "code",
   "execution_count": 17,
   "metadata": {
    "application/vnd.databricks.v1+cell": {
     "cellMetadata": {},
     "inputWidgets": {},
     "nuid": "78f7e2c9-6453-41fd-9bc8-82085ddc181f",
     "showTitle": false,
     "title": ""
    }
   },
   "outputs": [
    {
     "name": "stdout",
     "output_type": "stream",
     "text": [
      "La corrélation de Pearson entre Age et DailyRate est : 0.010660942645538433\n",
      "La corrélation de Pearson entre Age et DistanceFromHome est : -0.0016861201480871592\n",
      "La corrélation de Pearson entre Age et Education est : 0.2080337310142398\n",
      "La corrélation de Pearson entre Age et EmployeeCount est : None\n",
      "La corrélation de Pearson entre Age et EmployeeNumber est : -0.0101454670768599\n",
      "La corrélation de Pearson entre Age et EnvironmentSatisfaction est : 0.010146427861437268\n",
      "La corrélation de Pearson entre Age et HourlyRate est : 0.024286542550967197\n",
      "La corrélation de Pearson entre Age et JobInvolvement est : 0.029819958629590578\n",
      "La corrélation de Pearson entre Age et JobLevel est : 0.5096042284323842\n",
      "La corrélation de Pearson entre Age et JobSatisfaction est : -0.00489187714868713\n",
      "La corrélation de Pearson entre Age et MonthlyIncome est : 0.4978545669265801\n",
      "La corrélation de Pearson entre Age et MonthlyRate est : 0.02805116713392273\n",
      "La corrélation de Pearson entre Age et NumCompaniesWorked est : 0.2996347579836926\n",
      "La corrélation de Pearson entre Age et PercentSalaryHike est : 0.0036335849148618872\n",
      "La corrélation de Pearson entre Age et PerformanceRating est : 0.0019038955127587383\n",
      "La corrélation de Pearson entre Age et RelationshipSatisfaction est : 0.053534719671229365\n",
      "La corrélation de Pearson entre Age et StandardHours est : None\n",
      "La corrélation de Pearson entre Age et TotalWorkingYears est : 0.6803805357911985\n",
      "La corrélation de Pearson entre Age et WorkLifeBalance est : -0.021490027957098715\n",
      "La corrélation de Pearson entre Age et YearsAtCompany est : 0.31130876974509886\n",
      "La corrélation de Pearson entre Age et YearsInCurrentRole est : 0.21290105556556793\n",
      "La corrélation de Pearson entre Age et YearsWithCurrManager est : 0.20208860237515264\n",
      "La corrélation de Pearson entre DailyRate et DistanceFromHome est : -0.004985337352552667\n",
      "La corrélation de Pearson entre DailyRate et Education est : -0.01680643320915763\n",
      "La corrélation de Pearson entre DailyRate et EmployeeCount est : None\n",
      "La corrélation de Pearson entre DailyRate et EmployeeNumber est : -0.05099043365447757\n",
      "La corrélation de Pearson entre DailyRate et EnvironmentSatisfaction est : 0.018354854300385557\n",
      "La corrélation de Pearson entre DailyRate et HourlyRate est : 0.023381421528320526\n",
      "La corrélation de Pearson entre DailyRate et JobInvolvement est : 0.04613487399781112\n",
      "La corrélation de Pearson entre DailyRate et JobLevel est : 0.0029663348551116197\n",
      "La corrélation de Pearson entre DailyRate et JobSatisfaction est : 0.030571007837143983\n",
      "La corrélation de Pearson entre DailyRate et MonthlyIncome est : 0.007707058872006053\n",
      "La corrélation de Pearson entre DailyRate et MonthlyRate est : -0.03218160152258194\n",
      "La corrélation de Pearson entre DailyRate et NumCompaniesWorked est : 0.0381534342794098\n",
      "La corrélation de Pearson entre DailyRate et PercentSalaryHike est : 0.022703677496334968\n",
      "La corrélation de Pearson entre DailyRate et PerformanceRating est : 0.00047329632718855213\n",
      "La corrélation de Pearson entre DailyRate et RelationshipSatisfaction est : 0.007846030957248387\n",
      "La corrélation de Pearson entre DailyRate et StandardHours est : None\n",
      "La corrélation de Pearson entre DailyRate et TotalWorkingYears est : 0.014514738706320902\n",
      "La corrélation de Pearson entre DailyRate et WorkLifeBalance est : -0.03784805100578179\n",
      "La corrélation de Pearson entre DailyRate et YearsAtCompany est : -0.03405476756854744\n",
      "La corrélation de Pearson entre DailyRate et YearsInCurrentRole est : 0.009932014960094215\n",
      "La corrélation de Pearson entre DailyRate et YearsWithCurrManager est : -0.026363178228837676\n",
      "La corrélation de Pearson entre DistanceFromHome et Education est : 0.02104182562412337\n",
      "La corrélation de Pearson entre DistanceFromHome et EmployeeCount est : None\n",
      "La corrélation de Pearson entre DistanceFromHome et EmployeeNumber est : 0.03291640719924402\n",
      "La corrélation de Pearson entre DistanceFromHome et EnvironmentSatisfaction est : -0.016075326996493552\n",
      "La corrélation de Pearson entre DistanceFromHome et HourlyRate est : 0.03113058561176567\n",
      "La corrélation de Pearson entre DistanceFromHome et JobInvolvement est : 0.00878327988644428\n",
      "La corrélation de Pearson entre DistanceFromHome et JobLevel est : 0.00530273055449621\n",
      "La corrélation de Pearson entre DistanceFromHome et JobSatisfaction est : -0.0036688391677205875\n",
      "La corrélation de Pearson entre DistanceFromHome et MonthlyIncome est : -0.017014444745275865\n",
      "La corrélation de Pearson entre DistanceFromHome et MonthlyRate est : 0.027472863548884105\n",
      "La corrélation de Pearson entre DistanceFromHome et NumCompaniesWorked est : -0.029250804197293003\n",
      "La corrélation de Pearson entre DistanceFromHome et PercentSalaryHike est : 0.04023537745919304\n",
      "La corrélation de Pearson entre DistanceFromHome et PerformanceRating est : 0.02710961848197602\n",
      "La corrélation de Pearson entre DistanceFromHome et RelationshipSatisfaction est : 0.006557474646578798\n",
      "La corrélation de Pearson entre DistanceFromHome et StandardHours est : None\n",
      "La corrélation de Pearson entre DistanceFromHome et TotalWorkingYears est : 0.004628425863783865\n",
      "La corrélation de Pearson entre DistanceFromHome et WorkLifeBalance est : -0.026556004106569022\n",
      "La corrélation de Pearson entre DistanceFromHome et YearsAtCompany est : 0.009507719899011289\n",
      "La corrélation de Pearson entre DistanceFromHome et YearsInCurrentRole est : 0.018844999108945746\n",
      "La corrélation de Pearson entre DistanceFromHome et YearsWithCurrManager est : 0.01440604843063001\n",
      "La corrélation de Pearson entre Education et EmployeeCount est : None\n",
      "La corrélation de Pearson entre Education et EmployeeNumber est : 0.042070093029327675\n",
      "La corrélation de Pearson entre Education et EnvironmentSatisfaction est : -0.027128313256511792\n",
      "La corrélation de Pearson entre Education et HourlyRate est : 0.01677482888096076\n",
      "La corrélation de Pearson entre Education et JobInvolvement est : 0.042437634318607954\n",
      "La corrélation de Pearson entre Education et JobLevel est : 0.10158888624850043\n",
      "La corrélation de Pearson entre Education et JobSatisfaction est : -0.011296116736574002\n",
      "La corrélation de Pearson entre Education et MonthlyIncome est : 0.09496067704188883\n",
      "La corrélation de Pearson entre Education et MonthlyRate est : -0.026084197160047493\n",
      "La corrélation de Pearson entre Education et NumCompaniesWorked est : 0.12631656017668452\n",
      "La corrélation de Pearson entre Education et PercentSalaryHike est : -0.011110940860654192\n",
      "La corrélation de Pearson entre Education et PerformanceRating est : -0.024538791164833557\n",
      "La corrélation de Pearson entre Education et RelationshipSatisfaction est : -0.009118376696381533\n",
      "La corrélation de Pearson entre Education et StandardHours est : None\n",
      "La corrélation de Pearson entre Education et TotalWorkingYears est : 0.1482796965388733\n",
      "La corrélation de Pearson entre Education et WorkLifeBalance est : 0.00981918930978191\n",
      "La corrélation de Pearson entre Education et YearsAtCompany est : 0.0691136960313387\n",
      "La corrélation de Pearson entre Education et YearsInCurrentRole est : 0.06023555412069576\n",
      "La corrélation de Pearson entre Education et YearsWithCurrManager est : 0.06906537825528458\n",
      "La corrélation de Pearson entre EmployeeCount et EmployeeNumber est : None\n",
      "La corrélation de Pearson entre EmployeeCount et EnvironmentSatisfaction est : None\n",
      "La corrélation de Pearson entre EmployeeCount et HourlyRate est : None\n",
      "La corrélation de Pearson entre EmployeeCount et JobInvolvement est : None\n",
      "La corrélation de Pearson entre EmployeeCount et JobLevel est : None\n",
      "La corrélation de Pearson entre EmployeeCount et JobSatisfaction est : None\n",
      "La corrélation de Pearson entre EmployeeCount et MonthlyIncome est : None\n",
      "La corrélation de Pearson entre EmployeeCount et MonthlyRate est : None\n",
      "La corrélation de Pearson entre EmployeeCount et NumCompaniesWorked est : None\n",
      "La corrélation de Pearson entre EmployeeCount et PercentSalaryHike est : None\n",
      "La corrélation de Pearson entre EmployeeCount et PerformanceRating est : None\n",
      "La corrélation de Pearson entre EmployeeCount et RelationshipSatisfaction est : None\n",
      "La corrélation de Pearson entre EmployeeCount et StandardHours est : None\n",
      "La corrélation de Pearson entre EmployeeCount et TotalWorkingYears est : None\n",
      "La corrélation de Pearson entre EmployeeCount et WorkLifeBalance est : None\n",
      "La corrélation de Pearson entre EmployeeCount et YearsAtCompany est : None\n",
      "La corrélation de Pearson entre EmployeeCount et YearsInCurrentRole est : None\n",
      "La corrélation de Pearson entre EmployeeCount et YearsWithCurrManager est : None\n",
      "La corrélation de Pearson entre EmployeeNumber et EnvironmentSatisfaction est : 0.017620802485586586\n",
      "La corrélation de Pearson entre EmployeeNumber et HourlyRate est : 0.035179212418708077\n",
      "La corrélation de Pearson entre EmployeeNumber et JobInvolvement est : -0.0068879229870375\n",
      "La corrélation de Pearson entre EmployeeNumber et JobLevel est : -0.018519193974227376\n",
      "La corrélation de Pearson entre EmployeeNumber et JobSatisfaction est : -0.04624673493941775\n",
      "La corrélation de Pearson entre EmployeeNumber et MonthlyIncome est : -0.01482851587378469\n",
      "La corrélation de Pearson entre EmployeeNumber et MonthlyRate est : 0.012648229168461627\n",
      "La corrélation de Pearson entre EmployeeNumber et NumCompaniesWorked est : -0.0012510320398018363\n",
      "La corrélation de Pearson entre EmployeeNumber et PercentSalaryHike est : -0.012943995546151714\n",
      "La corrélation de Pearson entre EmployeeNumber et PerformanceRating est : -0.02035882514695762\n",
      "La corrélation de Pearson entre EmployeeNumber et RelationshipSatisfaction est : -0.06986141146763755\n",
      "La corrélation de Pearson entre EmployeeNumber et StandardHours est : None\n",
      "La corrélation de Pearson entre EmployeeNumber et TotalWorkingYears est : -0.014365198461301121\n",
      "La corrélation de Pearson entre EmployeeNumber et WorkLifeBalance est : 0.010308641437965905\n",
      "La corrélation de Pearson entre EmployeeNumber et YearsAtCompany est : -0.01124046370811416\n",
      "La corrélation de Pearson entre EmployeeNumber et YearsInCurrentRole est : -0.008416311998425954\n",
      "La corrélation de Pearson entre EmployeeNumber et YearsWithCurrManager est : -0.009196645292770315\n",
      "La corrélation de Pearson entre EnvironmentSatisfaction et HourlyRate est : -0.04985695620300066\n",
      "La corrélation de Pearson entre EnvironmentSatisfaction et JobInvolvement est : -0.008277598171759099\n",
      "La corrélation de Pearson entre EnvironmentSatisfaction et JobLevel est : 0.001211699448913883\n",
      "La corrélation de Pearson entre EnvironmentSatisfaction et JobSatisfaction est : -0.006784352599075007\n",
      "La corrélation de Pearson entre EnvironmentSatisfaction et MonthlyIncome est : -0.0062590877547801654\n",
      "La corrélation de Pearson entre EnvironmentSatisfaction et MonthlyRate est : 0.037599622865715374\n",
      "La corrélation de Pearson entre EnvironmentSatisfaction et NumCompaniesWorked est : 0.012594323218943297\n",
      "La corrélation de Pearson entre EnvironmentSatisfaction et PercentSalaryHike est : -0.031701195241792046\n",
      "La corrélation de Pearson entre EnvironmentSatisfaction et PerformanceRating est : -0.02954795229768088\n",
      "La corrélation de Pearson entre EnvironmentSatisfaction et RelationshipSatisfaction est : 0.007665383541074558\n",
      "La corrélation de Pearson entre EnvironmentSatisfaction et StandardHours est : None\n",
      "La corrélation de Pearson entre EnvironmentSatisfaction et TotalWorkingYears est : -0.002693070388534207\n",
      "La corrélation de Pearson entre EnvironmentSatisfaction et WorkLifeBalance est : 0.027627295460115428\n",
      "La corrélation de Pearson entre EnvironmentSatisfaction et YearsAtCompany est : 0.0014575491911164948\n",
      "La corrélation de Pearson entre EnvironmentSatisfaction et YearsInCurrentRole est : 0.01800746014287853\n",
      "La corrélation de Pearson entre EnvironmentSatisfaction et YearsWithCurrManager est : -0.004998722628107581\n",
      "La corrélation de Pearson entre HourlyRate et JobInvolvement est : 0.04286064097152976\n",
      "La corrélation de Pearson entre HourlyRate et JobLevel est : -0.027853486405547218\n",
      "La corrélation de Pearson entre HourlyRate et JobSatisfaction est : -0.07133462437378787\n",
      "La corrélation de Pearson entre HourlyRate et MonthlyIncome est : -0.015794304380892982\n",
      "La corrélation de Pearson entre HourlyRate et MonthlyRate est : -0.015296749550649661\n",
      "La corrélation de Pearson entre HourlyRate et NumCompaniesWorked est : 0.02215688339019683\n",
      "La corrélation de Pearson entre HourlyRate et PercentSalaryHike est : -0.00906198625374016\n",
      "La corrélation de Pearson entre HourlyRate et PerformanceRating est : -0.002171697427810162\n",
      "La corrélation de Pearson entre HourlyRate et RelationshipSatisfaction est : 0.0013304527859508606\n",
      "La corrélation de Pearson entre HourlyRate et StandardHours est : None\n",
      "La corrélation de Pearson entre HourlyRate et TotalWorkingYears est : -0.002333681823322269\n",
      "La corrélation de Pearson entre HourlyRate et WorkLifeBalance est : -0.004607233750264554\n",
      "La corrélation de Pearson entre HourlyRate et YearsAtCompany est : -0.019581616209121296\n",
      "La corrélation de Pearson entre HourlyRate et YearsInCurrentRole est : -0.02410622020878498\n",
      "La corrélation de Pearson entre HourlyRate et YearsWithCurrManager est : -0.020123200184066006\n",
      "La corrélation de Pearson entre JobInvolvement et JobLevel est : -0.012629882671190631\n",
      "La corrélation de Pearson entre JobInvolvement et JobSatisfaction est : -0.021475910335306454\n",
      "La corrélation de Pearson entre JobInvolvement et MonthlyIncome est : -0.015271490778732832\n",
      "La corrélation de Pearson entre JobInvolvement et MonthlyRate est : -0.016322079053317298\n",
      "La corrélation de Pearson entre JobInvolvement et NumCompaniesWorked est : 0.015012413243110999\n",
      "La corrélation de Pearson entre JobInvolvement et PercentSalaryHike est : -0.017204572244480378\n",
      "La corrélation de Pearson entre JobInvolvement et PerformanceRating est : -0.029071333439069817\n",
      "La corrélation de Pearson entre JobInvolvement et RelationshipSatisfaction est : 0.034296820611197744\n",
      "La corrélation de Pearson entre JobInvolvement et StandardHours est : None\n",
      "La corrélation de Pearson entre JobInvolvement et TotalWorkingYears est : -0.0055331820574074635\n",
      "La corrélation de Pearson entre JobInvolvement et WorkLifeBalance est : -0.014616593162761865\n",
      "La corrélation de Pearson entre JobInvolvement et YearsAtCompany est : -0.021355426979629756\n",
      "La corrélation de Pearson entre JobInvolvement et YearsInCurrentRole est : 0.00871696349761169\n",
      "La corrélation de Pearson entre JobInvolvement et YearsWithCurrManager est : 0.025975807949088936\n",
      "La corrélation de Pearson entre JobLevel et JobSatisfaction est : -0.0019437080267456581\n",
      "La corrélation de Pearson entre JobLevel et MonthlyIncome est : 0.9502999134798473\n",
      "La corrélation de Pearson entre JobLevel et MonthlyRate est : 0.03956295104568388\n",
      "La corrélation de Pearson entre JobLevel et NumCompaniesWorked est : 0.1425011238104873\n",
      "La corrélation de Pearson entre JobLevel et PercentSalaryHike est : -0.03473049227941817\n",
      "La corrélation de Pearson entre JobLevel et PerformanceRating est : -0.021222082108857152\n",
      "La corrélation de Pearson entre JobLevel et RelationshipSatisfaction est : 0.021641510532591595\n",
      "La corrélation de Pearson entre JobLevel et StandardHours est : None\n",
      "La corrélation de Pearson entre JobLevel et TotalWorkingYears est : 0.7822078045362748\n",
      "La corrélation de Pearson entre JobLevel et WorkLifeBalance est : 0.037817745596666404\n",
      "La corrélation de Pearson entre JobLevel et YearsAtCompany est : 0.5347386873756308\n",
      "La corrélation de Pearson entre JobLevel et YearsInCurrentRole est : 0.3894467328766705\n",
      "La corrélation de Pearson entre JobLevel et YearsWithCurrManager est : 0.37528060776572636\n",
      "La corrélation de Pearson entre JobSatisfaction et MonthlyIncome est : -0.00715674235591272\n",
      "La corrélation de Pearson entre JobSatisfaction et MonthlyRate est : 0.0006439169427037768\n",
      "La corrélation de Pearson entre JobSatisfaction et NumCompaniesWorked est : -0.05569942601274605\n",
      "La corrélation de Pearson entre JobSatisfaction et PercentSalaryHike est : 0.020002039364081927\n",
      "La corrélation de Pearson entre JobSatisfaction et PerformanceRating est : 0.0022971970637806114\n",
      "La corrélation de Pearson entre JobSatisfaction et RelationshipSatisfaction est : -0.012453593161926702\n",
      "La corrélation de Pearson entre JobSatisfaction et StandardHours est : None\n",
      "La corrélation de Pearson entre JobSatisfaction et TotalWorkingYears est : -0.020185072685016788\n",
      "La corrélation de Pearson entre JobSatisfaction et WorkLifeBalance est : -0.01945871021297396\n",
      "La corrélation de Pearson entre JobSatisfaction et YearsAtCompany est : -0.003802627948288031\n",
      "La corrélation de Pearson entre JobSatisfaction et YearsInCurrentRole est : -0.0023047852298301304\n",
      "La corrélation de Pearson entre JobSatisfaction et YearsWithCurrManager est : -0.027656213884289974\n",
      "La corrélation de Pearson entre MonthlyIncome et MonthlyRate est : 0.034813626134121846\n",
      "La corrélation de Pearson entre MonthlyIncome et NumCompaniesWorked est : 0.14951521598969805\n",
      "La corrélation de Pearson entre MonthlyIncome et PercentSalaryHike est : -0.02726858644031447\n",
      "La corrélation de Pearson entre MonthlyIncome et PerformanceRating est : -0.01712013823739077\n",
      "La corrélation de Pearson entre MonthlyIncome et RelationshipSatisfaction est : 0.025873436137557656\n",
      "La corrélation de Pearson entre MonthlyIncome et StandardHours est : None\n",
      "La corrélation de Pearson entre MonthlyIncome et TotalWorkingYears est : 0.7728932462543574\n",
      "La corrélation de Pearson entre MonthlyIncome et WorkLifeBalance est : 0.030683081556940557\n",
      "La corrélation de Pearson entre MonthlyIncome et YearsAtCompany est : 0.5142848257331956\n",
      "La corrélation de Pearson entre MonthlyIncome et YearsInCurrentRole est : 0.3638176669287084\n",
      "La corrélation de Pearson entre MonthlyIncome et YearsWithCurrManager est : 0.34407888325872127\n",
      "La corrélation de Pearson entre MonthlyRate et NumCompaniesWorked est : 0.017521353415571563\n",
      "La corrélation de Pearson entre MonthlyRate et PercentSalaryHike est : -0.006429345946711407\n",
      "La corrélation de Pearson entre MonthlyRate et PerformanceRating est : -0.00981142848936084\n",
      "La corrélation de Pearson entre MonthlyRate et RelationshipSatisfaction est : -0.004085329337519686\n",
      "La corrélation de Pearson entre MonthlyRate et StandardHours est : None\n",
      "La corrélation de Pearson entre MonthlyRate et TotalWorkingYears est : 0.026442471176015385\n",
      "La corrélation de Pearson entre MonthlyRate et WorkLifeBalance est : 0.007963157516977033\n",
      "La corrélation de Pearson entre MonthlyRate et YearsAtCompany est : -0.023655106706177265\n",
      "La corrélation de Pearson entre MonthlyRate et YearsInCurrentRole est : -0.012814874370471728\n",
      "La corrélation de Pearson entre MonthlyRate et YearsWithCurrManager est : -0.036745905336769386\n",
      "La corrélation de Pearson entre NumCompaniesWorked et PercentSalaryHike est : -0.010238309359925521\n",
      "La corrélation de Pearson entre NumCompaniesWorked et PerformanceRating est : -0.014094872753535133\n",
      "La corrélation de Pearson entre NumCompaniesWorked et RelationshipSatisfaction est : 0.05273304856488617\n",
      "La corrélation de Pearson entre NumCompaniesWorked et StandardHours est : None\n",
      "La corrélation de Pearson entre NumCompaniesWorked et TotalWorkingYears est : 0.23763858978479552\n",
      "La corrélation de Pearson entre NumCompaniesWorked et WorkLifeBalance est : -0.008365684790058631\n",
      "La corrélation de Pearson entre NumCompaniesWorked et YearsAtCompany est : -0.11842134024259103\n",
      "La corrélation de Pearson entre NumCompaniesWorked et YearsInCurrentRole est : -0.0907539337008081\n",
      "La corrélation de Pearson entre NumCompaniesWorked et YearsWithCurrManager est : -0.11031915543773241\n",
      "La corrélation de Pearson entre PercentSalaryHike et PerformanceRating est : 0.7735499964012664\n",
      "La corrélation de Pearson entre PercentSalaryHike et RelationshipSatisfaction est : -0.04049008105707734\n",
      "La corrélation de Pearson entre PercentSalaryHike et StandardHours est : None\n",
      "La corrélation de Pearson entre PercentSalaryHike et TotalWorkingYears est : -0.020608487617691264\n",
      "La corrélation de Pearson entre PercentSalaryHike et WorkLifeBalance est : -0.0032796360093680704\n",
      "La corrélation de Pearson entre PercentSalaryHike et YearsAtCompany est : -0.03599126243195375\n",
      "La corrélation de Pearson entre PercentSalaryHike et YearsInCurrentRole est : -0.0015200265442777774\n",
      "La corrélation de Pearson entre PercentSalaryHike et YearsWithCurrManager est : -0.01198524847236139\n",
      "La corrélation de Pearson entre PerformanceRating et RelationshipSatisfaction est : -0.031351455442454886\n",
      "La corrélation de Pearson entre PerformanceRating et StandardHours est : None\n",
      "La corrélation de Pearson entre PerformanceRating et TotalWorkingYears est : 0.0067436679059531685\n",
      "La corrélation de Pearson entre PerformanceRating et WorkLifeBalance est : 0.002572361317682639\n",
      "La corrélation de Pearson entre PerformanceRating et YearsAtCompany est : 0.003435126115923878\n",
      "La corrélation de Pearson entre PerformanceRating et YearsInCurrentRole est : 0.034986260407194936\n",
      "La corrélation de Pearson entre PerformanceRating et YearsWithCurrManager est : 0.022827168908479807\n",
      "La corrélation de Pearson entre RelationshipSatisfaction et StandardHours est : None\n",
      "La corrélation de Pearson entre RelationshipSatisfaction et TotalWorkingYears est : 0.02405429182134145\n",
      "La corrélation de Pearson entre RelationshipSatisfaction et WorkLifeBalance est : 0.01960440570396871\n",
      "La corrélation de Pearson entre RelationshipSatisfaction et YearsAtCompany est : 0.019366786877455463\n",
      "La corrélation de Pearson entre RelationshipSatisfaction et YearsInCurrentRole est : -0.015122914881937748\n",
      "La corrélation de Pearson entre RelationshipSatisfaction et YearsWithCurrManager est : -0.0008674968446256695\n",
      "La corrélation de Pearson entre StandardHours et TotalWorkingYears est : None\n",
      "La corrélation de Pearson entre StandardHours et WorkLifeBalance est : None\n",
      "La corrélation de Pearson entre StandardHours et YearsAtCompany est : None\n",
      "La corrélation de Pearson entre StandardHours et YearsInCurrentRole est : None\n",
      "La corrélation de Pearson entre StandardHours et YearsWithCurrManager est : None\n",
      "La corrélation de Pearson entre TotalWorkingYears et WorkLifeBalance est : 0.0010076456218964924\n",
      "La corrélation de Pearson entre TotalWorkingYears et YearsAtCompany est : 0.6281331552682468\n",
      "La corrélation de Pearson entre TotalWorkingYears et YearsInCurrentRole est : 0.46036463801180993\n",
      "La corrélation de Pearson entre TotalWorkingYears et YearsWithCurrManager est : 0.45918839708314385\n",
      "La corrélation de Pearson entre WorkLifeBalance et YearsAtCompany est : 0.012089185354581313\n",
      "La corrélation de Pearson entre WorkLifeBalance et YearsInCurrentRole est : 0.04985649792220436\n",
      "La corrélation de Pearson entre WorkLifeBalance et YearsWithCurrManager est : 0.002759440242340428\n",
      "La corrélation de Pearson entre YearsAtCompany et YearsInCurrentRole est : 0.7587537366134618\n",
      "La corrélation de Pearson entre YearsAtCompany et YearsWithCurrManager est : 0.7692124251007031\n",
      "La corrélation de Pearson entre YearsInCurrentRole et YearsWithCurrManager est : 0.7143647616385931\n"
     ]
    }
   ],
   "source": [
    "# Calcul de la corrélation de Pearson entre chaque paire de colonnes\n",
    "correlations = {}\n",
    "for i in range(len(num_col)):\n",
    "    for j in range(i+1, len(num_col)):\n",
    "        col_i = num_col[i]\n",
    "        col_j = num_col[j]\n",
    "        corr_val = df.select(corr(col_i, col_j)).collect()[0][0]\n",
    "        correlations[(col_i, col_j)] = corr_val\n",
    "\n",
    "# Affichage des résultats\n",
    "for cols, corr_val in correlations.items():\n",
    "    print(\"La corrélation de Pearson entre {} et {} est : {}\".format(cols[0], cols[1], corr_val))"
   ]
  },
  {
   "cell_type": "code",
   "execution_count": 0,
   "metadata": {
    "application/vnd.databricks.v1+cell": {
     "cellMetadata": {},
     "inputWidgets": {},
     "nuid": "59694b4b-2db3-42d0-8082-e708d2e839c2",
     "showTitle": false,
     "title": ""
    }
   },
   "outputs": [
    {
     "data": {
      "text/html": [
       "<style scoped>\n",
       "  .ansiout {\n",
       "    display: block;\n",
       "    unicode-bidi: embed;\n",
       "    white-space: pre-wrap;\n",
       "    word-wrap: break-word;\n",
       "    word-break: break-all;\n",
       "    font-family: \"Source Code Pro\", \"Menlo\", monospace;;\n",
       "    font-size: 13px;\n",
       "    color: #555;\n",
       "    margin-left: 4px;\n",
       "    line-height: 19px;\n",
       "  }\n",
       "</style>\n",
       "<div class=\"ansiout\"></div>"
      ]
     },
     "metadata": {
      "application/vnd.databricks.v1+output": {
       "addedWidgets": {},
       "arguments": {},
       "data": "<div class=\"ansiout\"></div>",
       "datasetInfos": [],
       "metadata": {},
       "removedWidgets": [],
       "type": "html"
      }
     },
     "output_type": "display_data"
    }
   ],
   "source": [
    "# La corrélation de Pearson entre JobLevel et MonthlyIncome est : 0.9502999134798473\n",
    "# La corrélation de Pearson entre JobLevel et TotalWorkingYears est : 0.7822078045362748\n",
    "# La corrélation de Pearson entre YearsAtCompany et YearsInCurrentRole est : 0.7587537366134618\n",
    "# La corrélation de Pearson entre PercentSalaryHike et PerformanceRating est : 0.7735499964012664"
   ]
  },
  {
   "cell_type": "markdown",
   "metadata": {
    "application/vnd.databricks.v1+cell": {
     "cellMetadata": {},
     "inputWidgets": {},
     "nuid": "242b37c1-ede7-4bff-90bd-4eb655db2c58",
     "showTitle": false,
     "title": ""
    }
   },
   "source": [
    "### Vérifier le nb de valeurs nulls"
   ]
  },
  {
   "cell_type": "code",
   "execution_count": 21,
   "metadata": {},
   "outputs": [
    {
     "data": {
      "text/plain": [
       "DataFrame[Age: double, Attrition: string, BusinessTravel: string, DailyRate: double, Department: string, DistanceFromHome: double, Education: double, EducationField: string, EmployeeCount: double, EmployeeNumber: double, EnvironmentSatisfaction: double, Gender: string, HourlyRate: double, JobInvolvement: double, JobLevel: double, JobRole: string, JobSatisfaction: double, MaritalStatus: string, MonthlyIncome: double, MonthlyRate: double, NumCompaniesWorked: double, Over18: string, OverTime: string, PercentSalaryHike: double, PerformanceRating: double, RelationshipSatisfaction: double, StandardHours: double, StockOptionLevel: string, TotalWorkingYears: double, TrainingTimesLastYear: string, WorkLifeBalance: double, YearsAtCompany: double, YearsInCurrentRole: double, YearsSinceLastPromotion: string, YearsWithCurrManager: double]"
      ]
     },
     "execution_count": 21,
     "metadata": {},
     "output_type": "execute_result"
    }
   ],
   "source": [
    "df"
   ]
  },
  {
   "cell_type": "code",
   "execution_count": 32,
   "metadata": {
    "application/vnd.databricks.v1+cell": {
     "cellMetadata": {},
     "inputWidgets": {},
     "nuid": "4bfe5e84-3714-4c54-8e63-c33af79e7b9b",
     "showTitle": false,
     "title": ""
    }
   },
   "outputs": [
    {
     "data": {
      "text/plain": [
       "DataFrame[Age: bigint, Attrition: bigint, BusinessTravel: bigint, DailyRate: bigint, Department: bigint, DistanceFromHome: bigint, Education: bigint, EducationField: bigint, EmployeeCount: bigint, EmployeeNumber: bigint, EnvironmentSatisfaction: bigint, Gender: bigint, HourlyRate: bigint, JobInvolvement: bigint, JobLevel: bigint, JobRole: bigint, JobSatisfaction: bigint, MaritalStatus: bigint, MonthlyIncome: bigint, MonthlyRate: bigint, NumCompaniesWorked: bigint, Over18: bigint, OverTime: bigint, PercentSalaryHike: bigint, PerformanceRating: bigint, RelationshipSatisfaction: bigint, StandardHours: bigint, StockOptionLevel: bigint, TotalWorkingYears: bigint, TrainingTimesLastYear: bigint, WorkLifeBalance: bigint, YearsAtCompany: bigint, YearsInCurrentRole: bigint, YearsSinceLastPromotion: bigint, YearsWithCurrManager: bigint]"
      ]
     },
     "metadata": {},
     "output_type": "display_data"
    }
   ],
   "source": [
    "from pyspark.sql.functions import col, sum\n",
    "# Comptage du nombre de valeurs nulles pour chaque colonne\n",
    "null_counts = df.agg(*[sum(col(c).isNull().cast(\"int\")).alias(c) for c in df.columns])\n",
    "display(null_counts)"
   ]
  },
  {
   "cell_type": "markdown",
   "metadata": {
    "application/vnd.databricks.v1+cell": {
     "cellMetadata": {},
     "inputWidgets": {},
     "nuid": "b5e94d6b-ff18-4919-aff3-acc44903f3ae",
     "showTitle": false,
     "title": ""
    }
   },
   "source": [
    "### Analyse exploratoire des données"
   ]
  },
  {
   "cell_type": "code",
   "execution_count": 28,
   "metadata": {
    "application/vnd.databricks.v1+cell": {
     "cellMetadata": {},
     "inputWidgets": {},
     "nuid": "93b3dc22-d877-4256-8cef-17c09876e95e",
     "showTitle": false,
     "title": ""
    }
   },
   "outputs": [
    {
     "data": {
      "image/png": "[encoded data removed]",
      "text/plain": [
       "<Figure size 432x288 with 1 Axes>"
      ]
     },
     "metadata": {
      "needs_background": "light"
     },
     "output_type": "display_data"
    }
   ],
   "source": [
    "import matplotlib.pyplot as plt\n",
    "\n",
    "\n",
    "# Conversion de la colonne \"attrition\" en un objet Pandas DataFrame et tracé de l'histogramme\n",
    "pandas_df = df.select(\"Attrition\").toPandas()\n",
    "plt.hist(pandas_df[\"Attrition\"], bins=3, color='lightblue', edgecolor='black')\n",
    "\n",
    "# Personnalisation de l'histogramme\n",
    "plt.title('Distribution des données de la colonne \"Attrition\"')\n",
    "plt.xlabel('Valeurs')\n",
    "plt.ylabel('Fréquence')\n",
    "plt.grid(axis='y', alpha=0.75)\n",
    "plt.xticks(fontsize=10)\n",
    "plt.yticks(fontsize=10)\n",
    "\n",
    "# Affichage de l'histogramme\n",
    "plt.show()"
   ]
  },
  {
   "cell_type": "code",
   "execution_count": 29,
   "metadata": {
    "application/vnd.databricks.v1+cell": {
     "cellMetadata": {},
     "inputWidgets": {},
     "nuid": "a7b49a13-aaf0-4a57-99bb-ed2e716d3cee",
     "showTitle": false,
     "title": ""
    }
   },
   "outputs": [
    {
     "data": {
      "image/png": "[encoded data removed]",
      "text/plain": [
       "<Figure size 432x288 with 1 Axes>"
      ]
     },
     "metadata": {
      "needs_background": "light"
     },
     "output_type": "display_data"
    }
   ],
   "source": [
    "# Conversion de la colonne \"attrition\" en un objet Pandas DataFrame et tracé de l'histogramme\n",
    "pandas_df = df.select(\"Department\").toPandas()\n",
    "plt.hist(pandas_df[\"Department\"], bins=5, color='lightgreen', edgecolor='black')\n",
    "\n",
    "# Personnalisation de l'histogramme\n",
    "plt.title('Distribution des données de la colonne \"Department\"')\n",
    "plt.xlabel('Valeurs')\n",
    "plt.ylabel('Fréquence')\n",
    "plt.grid(axis='y', alpha=0.75)\n",
    "plt.xticks(fontsize=10)\n",
    "plt.yticks(fontsize=10)\n",
    "\n",
    "# Affichage de l'histogramme\n",
    "plt.show() "
   ]
  },
  {
   "cell_type": "code",
   "execution_count": 30,
   "metadata": {
    "application/vnd.databricks.v1+cell": {
     "cellMetadata": {},
     "inputWidgets": {},
     "nuid": "915274c0-fd64-457d-a879-74d40c19bdee",
     "showTitle": false,
     "title": ""
    }
   },
   "outputs": [
    {
     "data": {
      "image/png": "[encoded data removed]",
      "text/plain": [
       "<Figure size 432x288 with 1 Axes>"
      ]
     },
     "metadata": {
      "needs_background": "light"
     },
     "output_type": "display_data"
    }
   ],
   "source": [
    "# Conversion de la colonne \"attrition\" en un objet Pandas DataFrame et tracé de l'histogramme\n",
    "pandas_df = df.select(\"EducationField\").toPandas()\n",
    "plt.hist(pandas_df[\"EducationField\"], bins=15, color='lightpink', edgecolor='black', width=0.5)\n",
    "\n",
    "# Personnalisation de l'histogramme\n",
    "plt.title('Distribution des données de la colonne \"Department\"')\n",
    "plt.xlabel('Valeurs')\n",
    "plt.ylabel('Fréquence')\n",
    "plt.grid(axis='y', alpha=0.75)\n",
    "plt.xticks(fontsize=10)\n",
    "plt.yticks(fontsize=10)\n",
    "\n",
    "# Affichage de l'histogramme\n",
    "plt.show() "
   ]
  },
  {
   "cell_type": "markdown",
   "metadata": {
    "application/vnd.databricks.v1+cell": {
     "cellMetadata": {},
     "inputWidgets": {},
     "nuid": "579da6fd-6e88-414e-a3f9-5b793692452e",
     "showTitle": false,
     "title": ""
    }
   },
   "source": [
    "### enlever les valeurs aberrantes"
   ]
  },
  {
   "cell_type": "code",
   "execution_count": 35,
   "metadata": {
    "application/vnd.databricks.v1+cell": {
     "cellMetadata": {},
     "inputWidgets": {},
     "nuid": "72bb6955-6e6b-4515-87e2-90ef4f521847",
     "showTitle": false,
     "title": ""
    }
   },
   "outputs": [
    {
     "name": "stdout",
     "output_type": "stream",
     "text": [
      "+----+---------+-----------------+---------+--------------------+----------------+---------+--------------+-------------+--------------+-----------------------+------+----------+--------------+--------+--------------------+---------------+-------------+-------------+-----------+------------------+------+--------+-----------------+-----------------+------------------------+-------------+----------------+-----------------+---------------------+---------------+--------------+------------------+-----------------------+--------------------+\n",
      "| Age|Attrition|   BusinessTravel|DailyRate|          Department|DistanceFromHome|Education|EducationField|EmployeeCount|EmployeeNumber|EnvironmentSatisfaction|Gender|HourlyRate|JobInvolvement|JobLevel|             JobRole|JobSatisfaction|MaritalStatus|MonthlyIncome|MonthlyRate|NumCompaniesWorked|Over18|OverTime|PercentSalaryHike|PerformanceRating|RelationshipSatisfaction|StandardHours|StockOptionLevel|TotalWorkingYears|TrainingTimesLastYear|WorkLifeBalance|YearsAtCompany|YearsInCurrentRole|YearsSinceLastPromotion|YearsWithCurrManager|\n",
      "+----+---------+-----------------+---------+--------------------+----------------+---------+--------------+-------------+--------------+-----------------------+------+----------+--------------+--------+--------------------+---------------+-------------+-------------+-----------+------------------+------+--------+-----------------+-----------------+------------------------+-------------+----------------+-----------------+---------------------+---------------+--------------+------------------+-----------------------+--------------------+\n",
      "|41.0|      Yes|    Travel_Rarely|   1102.0|               Sales|             1.0|      2.0| Life Sciences|          1.0|           1.0|                    2.0|Female|      94.0|           3.0|     2.0|     Sales Executive|            4.0|       Single|       5993.0|    19479.0|               8.0|     Y|     Yes|             11.0|              3.0|                     1.0|         80.0|               0|              8.0|                    0|            1.0|           6.0|               4.0|                      0|                 5.0|\n",
      "|49.0|       No|Travel_Frequently|    279.0|Research & Develo...|             8.0|      1.0| Life Sciences|          1.0|           2.0|                    3.0|  Male|      61.0|           2.0|     2.0|  Research Scientist|            2.0|      Married|       5130.0|    24907.0|               1.0|     Y|      No|             23.0|              4.0|                     4.0|         80.0|               1|             10.0|                    3|            3.0|          10.0|               7.0|                      1|                 7.0|\n",
      "|37.0|      Yes|    Travel_Rarely|   1373.0|Research & Develo...|             2.0|      2.0|         Other|          1.0|           4.0|                    4.0|  Male|      92.0|           2.0|     1.0|Laboratory Techni...|            3.0|       Single|       2090.0|     2396.0|               6.0|     Y|     Yes|             15.0|              3.0|                     2.0|         80.0|               0|              7.0|                    3|            3.0|           0.0|               0.0|                      0|                 0.0|\n",
      "+----+---------+-----------------+---------+--------------------+----------------+---------+--------------+-------------+--------------+-----------------------+------+----------+--------------+--------+--------------------+---------------+-------------+-------------+-----------+------------------+------+--------+-----------------+-----------------+------------------------+-------------+----------------+-----------------+---------------------+---------------+--------------+------------------+-----------------------+--------------------+\n",
      "only showing top 3 rows\n",
      "\n"
     ]
    }
   ],
   "source": [
    "from pyspark.sql.functions import stddev, avg\n",
    "\n",
    "# Boucle pour enlever les valeurs aberrantes de chaque colonne\n",
    "for col in df.columns:\n",
    "    # Calcul des statistiques pour la colonne\n",
    "    stats = df.select(avg(col), stddev(col)).first()\n",
    "    mean = stats[0]\n",
    "    std = stats[1]\n",
    "\n",
    "    if mean is not None and std is not None:\n",
    "    # Calcul du seuil pour déterminer les valeurs aberrantes\n",
    "        threshold = 3 * std + mean\n",
    "        # Suppression des valeurs aberrantes pour la colonne\n",
    "        df = df.filter(df[col] <= threshold)\n",
    "\n",
    "# Affichage du DataFrame sans les valeurs aberrantes\n",
    "df.show(3)"
   ]
  },
  {
   "cell_type": "code",
   "execution_count": 39,
   "metadata": {
    "application/vnd.databricks.v1+cell": {
     "cellMetadata": {},
     "inputWidgets": {},
     "nuid": "093af183-89b0-48ad-8997-b275196fcd82",
     "showTitle": false,
     "title": ""
    }
   },
   "outputs": [
    {
     "name": "stdout",
     "output_type": "stream",
     "text": [
      "1151 35\n"
     ]
    }
   ],
   "source": [
    "print(df.count(), len(df.columns))"
   ]
  },
  {
   "cell_type": "code",
   "execution_count": null,
   "metadata": {},
   "outputs": [],
   "source": []
  }
 ],
 "metadata": {
  "application/vnd.databricks.v1+notebook": {
   "dashboards": [],
   "language": "python",
   "notebookMetadata": {
    "pythonIndentUnit": 4
   },
   "notebookName": "Attrition ML",
   "notebookOrigID": 2166989308309038,
   "widgets": {}
  },
  "kernelspec": {
   "display_name": "Python 3 (ipykernel)",
   "language": "python",
   "name": "python3"
  },
  "language_info": {
   "codemirror_mode": {
    "name": "ipython",
    "version": 3
   },
   "file_extension": ".py",
   "mimetype": "text/x-python",
   "name": "python",
   "nbconvert_exporter": "python",
   "pygments_lexer": "ipython3",
   "version": "3.9.7"
  }
 },
 "nbformat": 4,
 "nbformat_minor": 1
}
